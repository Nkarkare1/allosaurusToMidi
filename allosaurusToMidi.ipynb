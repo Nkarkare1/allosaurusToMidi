{
  "nbformat": 4,
  "nbformat_minor": 0,
  "metadata": {
    "colab": {
      "provenance": [],
      "authorship_tag": "ABX9TyPApGXGPjM+TXii27Y5Ks16",
      "include_colab_link": true
    },
    "kernelspec": {
      "name": "python3",
      "display_name": "Python 3"
    },
    "language_info": {
      "name": "python"
    }
  },
  "cells": [
    {
      "cell_type": "markdown",
      "metadata": {
        "id": "view-in-github",
        "colab_type": "text"
      },
      "source": [
        "<a href=\"https://colab.research.google.com/github/Nkarkare1/allosaurusToMidi/blob/main/allosaurusToMidi.ipynb\" target=\"_parent\"><img src=\"https://colab.research.google.com/assets/colab-badge.svg\" alt=\"Open In Colab\"/></a>"
      ]
    },
    {
      "cell_type": "markdown",
      "source": [
        "This block should only be run after initializing/reinitializing notebook."
      ],
      "metadata": {
        "id": "IcDONj1zZJlZ"
      }
    },
    {
      "cell_type": "code",
      "source": [
        "!pip install pretty_midi mir_eval pyfluidsynth allosaurus"
      ],
      "metadata": {
        "colab": {
          "base_uri": "https://localhost:8080/"
        },
        "collapsed": true,
        "id": "fH9FWXWaZERd",
        "outputId": "7d90e57c-7983-4d54-fd54-d6fe270f9ce7"
      },
      "execution_count": null,
      "outputs": [
        {
          "output_type": "stream",
          "name": "stdout",
          "text": [
            "Requirement already satisfied: pretty_midi in /usr/local/lib/python3.10/dist-packages (0.2.10)\n",
            "Requirement already satisfied: mir_eval in /usr/local/lib/python3.10/dist-packages (0.7)\n",
            "Requirement already satisfied: pyfluidsynth in /usr/local/lib/python3.10/dist-packages (1.3.3)\n",
            "Collecting allosaurus\n",
            "  Downloading allosaurus-1.0.2-py3-none-any.whl.metadata (400 bytes)\n",
            "Requirement already satisfied: numpy>=1.7.0 in /usr/local/lib/python3.10/dist-packages (from pretty_midi) (1.26.4)\n",
            "Requirement already satisfied: mido>=1.1.16 in /usr/local/lib/python3.10/dist-packages (from pretty_midi) (1.3.2)\n",
            "Requirement already satisfied: six in /usr/local/lib/python3.10/dist-packages (from pretty_midi) (1.16.0)\n",
            "Requirement already satisfied: scipy>=1.0.0 in /usr/local/lib/python3.10/dist-packages (from mir_eval) (1.13.1)\n",
            "Requirement already satisfied: future in /usr/local/lib/python3.10/dist-packages (from mir_eval) (1.0.0)\n",
            "Collecting resampy (from allosaurus)\n",
            "  Downloading resampy-0.4.3-py3-none-any.whl.metadata (3.0 kB)\n",
            "Collecting panphon (from allosaurus)\n",
            "  Downloading panphon-0.21.2-py2.py3-none-any.whl.metadata (15 kB)\n",
            "Requirement already satisfied: torch in /usr/local/lib/python3.10/dist-packages (from allosaurus) (2.4.1+cu121)\n",
            "Requirement already satisfied: editdistance in /usr/local/lib/python3.10/dist-packages (from allosaurus) (0.8.1)\n",
            "Requirement already satisfied: packaging~=23.1 in /usr/local/lib/python3.10/dist-packages (from mido>=1.1.16->pretty_midi) (23.2)\n",
            "Requirement already satisfied: setuptools in /usr/local/lib/python3.10/dist-packages (from panphon->allosaurus) (71.0.4)\n",
            "Collecting unicodecsv (from panphon->allosaurus)\n",
            "  Downloading unicodecsv-0.14.1.tar.gz (10 kB)\n",
            "  Preparing metadata (setup.py) ... \u001b[?25l\u001b[?25hdone\n",
            "Requirement already satisfied: PyYAML in /usr/local/lib/python3.10/dist-packages (from panphon->allosaurus) (6.0.2)\n",
            "Requirement already satisfied: regex in /usr/local/lib/python3.10/dist-packages (from panphon->allosaurus) (2024.9.11)\n",
            "Collecting munkres (from panphon->allosaurus)\n",
            "  Downloading munkres-1.1.4-py2.py3-none-any.whl.metadata (980 bytes)\n",
            "Requirement already satisfied: numba>=0.53 in /usr/local/lib/python3.10/dist-packages (from resampy->allosaurus) (0.60.0)\n",
            "Requirement already satisfied: filelock in /usr/local/lib/python3.10/dist-packages (from torch->allosaurus) (3.16.1)\n",
            "Requirement already satisfied: typing-extensions>=4.8.0 in /usr/local/lib/python3.10/dist-packages (from torch->allosaurus) (4.12.2)\n",
            "Requirement already satisfied: sympy in /usr/local/lib/python3.10/dist-packages (from torch->allosaurus) (1.13.3)\n",
            "Requirement already satisfied: networkx in /usr/local/lib/python3.10/dist-packages (from torch->allosaurus) (3.3)\n",
            "Requirement already satisfied: jinja2 in /usr/local/lib/python3.10/dist-packages (from torch->allosaurus) (3.1.4)\n",
            "Requirement already satisfied: fsspec in /usr/local/lib/python3.10/dist-packages (from torch->allosaurus) (2024.6.1)\n",
            "Requirement already satisfied: llvmlite<0.44,>=0.43.0dev0 in /usr/local/lib/python3.10/dist-packages (from numba>=0.53->resampy->allosaurus) (0.43.0)\n",
            "Requirement already satisfied: MarkupSafe>=2.0 in /usr/local/lib/python3.10/dist-packages (from jinja2->torch->allosaurus) (2.1.5)\n",
            "Requirement already satisfied: mpmath<1.4,>=1.1.0 in /usr/local/lib/python3.10/dist-packages (from sympy->torch->allosaurus) (1.3.0)\n",
            "Downloading allosaurus-1.0.2-py3-none-any.whl (52 kB)\n",
            "\u001b[2K   \u001b[90m━━━━━━━━━━━━━━━━━━━━━━━━━━━━━━━━━━━━━━━━\u001b[0m \u001b[32m52.1/52.1 kB\u001b[0m \u001b[31m2.3 MB/s\u001b[0m eta \u001b[36m0:00:00\u001b[0m\n",
            "\u001b[?25hDownloading panphon-0.21.2-py2.py3-none-any.whl (75 kB)\n",
            "\u001b[2K   \u001b[90m━━━━━━━━━━━━━━━━━━━━━━━━━━━━━━━━━━━━━━━━\u001b[0m \u001b[32m75.4/75.4 kB\u001b[0m \u001b[31m4.7 MB/s\u001b[0m eta \u001b[36m0:00:00\u001b[0m\n",
            "\u001b[?25hDownloading resampy-0.4.3-py3-none-any.whl (3.1 MB)\n",
            "\u001b[2K   \u001b[90m━━━━━━━━━━━━━━━━━━━━━━━━━━━━━━━━━━━━━━━━\u001b[0m \u001b[32m3.1/3.1 MB\u001b[0m \u001b[31m41.5 MB/s\u001b[0m eta \u001b[36m0:00:00\u001b[0m\n",
            "\u001b[?25hDownloading munkres-1.1.4-py2.py3-none-any.whl (7.0 kB)\n",
            "Building wheels for collected packages: unicodecsv\n",
            "  Building wheel for unicodecsv (setup.py) ... \u001b[?25l\u001b[?25hdone\n",
            "  Created wheel for unicodecsv: filename=unicodecsv-0.14.1-py3-none-any.whl size=10745 sha256=1114da98ba6b0eb1cfbd0ff78b403a0fa5fde4998a2d179cd12f1f853913fc7d\n",
            "  Stored in directory: /root/.cache/pip/wheels/9c/ea/66/8e45247b09052a933eb1a680b7c64802298faba58aac9b346b\n",
            "Successfully built unicodecsv\n",
            "Installing collected packages: unicodecsv, munkres, panphon, resampy, allosaurus\n",
            "Successfully installed allosaurus-1.0.2 munkres-1.1.4 panphon-0.21.2 resampy-0.4.3 unicodecsv-0.14.1\n"
          ]
        }
      ]
    },
    {
      "cell_type": "code",
      "execution_count": null,
      "metadata": {
        "collapsed": true,
        "id": "ShUa6fIQKeom"
      },
      "outputs": [],
      "source": [
        "import pretty_midi\n",
        "import numpy as np\n",
        "# For plotting\n",
        "import mir_eval.display\n",
        "import librosa.display\n",
        "import matplotlib.pyplot as plt\n",
        "%matplotlib inline\n",
        "# For putting audio in the notebook\n",
        "import IPython.display\n",
        "from allosaurus.app import read_recognizer\n",
        "import io\n",
        "import sys"
      ]
    },
    {
      "cell_type": "code",
      "source": [
        "audioName = \"AnAngelInDisguiseSinging.wav\"\n",
        "allosaurusOut = \"allosaurusOut.txt\"\n",
        "\n",
        "# load your model by the <model name>, will use 'latest' if left empty\n",
        "model = read_recognizer()\n",
        "\n",
        "model = read_recognizer()\n",
        "\n",
        "# redirect stdout to a StringIO object\n",
        "old_stdout = sys.stdout\n",
        "sys.stdout = temp_out = io.StringIO()\n",
        "\n",
        "# run inference on <audio_file> with <lang>, lang will be 'ipa' if left empty\n",
        "model.recognize(f'./AudioInputs/{audioName}', timestamp=True)\n",
        "\n",
        "# restore stdout\n",
        "sys.stdout = old_stdout\n",
        "\n",
        "# get the output from the StringIO object\n",
        "output = temp_out.getvalue()\n",
        "\n",
        "print(output)\n",
        "# write the output to a file\n",
        "with open(allosaurusOut, 'w') as f:\n",
        "  f.write(output)"
      ],
      "metadata": {
        "colab": {
          "base_uri": "https://localhost:8080/"
        },
        "id": "F7aXyx17Z1UI",
        "outputId": "e24b5d94-9b44-40ab-ebef-05feacdda51d"
      },
      "execution_count": null,
      "outputs": [
        {
          "output_type": "stream",
          "name": "stderr",
          "text": [
            "/usr/local/lib/python3.10/dist-packages/allosaurus/am/utils.py:18: FutureWarning: You are using `torch.load` with `weights_only=False` (the current default value), which uses the default pickle module implicitly. It is possible to construct malicious pickle data which will execute arbitrary code during unpickling (See https://github.com/pytorch/pytorch/blob/main/SECURITY.md#untrusted-models for more details). In a future release, the default value for `weights_only` will be flipped to `True`. This limits the functions that could be executed during unpickling. Arbitrary objects will no longer be allowed to be loaded via this mode unless they are explicitly allowlisted by the user via `torch.serialization.add_safe_globals`. We recommend you start setting `weights_only=True` for any use case where you don't have full control of the loaded file. Please open an issue on GitHub for any issues related to this experimental feature.\n",
            "  model_state_dict = torch.load(str(path), map_location=torch.device('cpu'))\n"
          ]
        },
        {
          "output_type": "stream",
          "name": "stdout",
          "text": [
            "\n"
          ]
        }
      ]
    },
    {
      "cell_type": "code",
      "source": [
        "phoneme_to_mouth = {\n",
        "    'x': 100,\n",
        "    'ʌ': 20,\n",
        "    'n': 10,\n",
        "    'a': 40,\n",
        "    'ɪ': 10,\n",
        "    'tɕ': 10,\n",
        "    'y': 15,\n",
        "    'uə': 30,\n",
        "    'tʂ': 10,\n",
        "    'e': 25,\n",
        "    's': 5,\n",
        "    'k͡p̚': 5,\n",
        "    'ð': 20,\n",
        "    'j': 20,\n",
        "    'iː': 10,\n",
        "    'b̞': 20,\n",
        "    'ɾ': 10,\n",
        "    'ə': 15,\n",
        "    'm': 15,\n",
        "    'ɛ': 30,\n",
        "    's̪': 10,\n",
        "}"
      ],
      "metadata": {
        "id": "IYBGWV2KMpiB"
      },
      "execution_count": null,
      "outputs": []
    },
    {
      "cell_type": "code",
      "source": [
        "angelInDisguiseOut = \"\"\"0.000 0.045 x\n",
        "0.090 0.045 ʌ\n",
        "0.270 0.045 n\n",
        "0.330 0.045 a\n",
        "0.390 0.045 ɪ\n",
        "0.480 0.045 tɕ\n",
        "0.570 0.045 y\n",
        "0.750 0.045 uə\n",
        "0.960 0.045 tʂ\n",
        "1.020 0.045 e\n",
        "1.200 0.045 s\n",
        "1.290 0.045 k͡p̚\n",
        "1.410 0.045 a\n",
        "1.710 0.045 ð\n",
        "1.770 0.045 ɪ\n",
        "1.860 0.045 s̪\n",
        "1.920 0.045 uə\n",
        "1.980 0.045 a\n",
        "2.130 0.045 j\n",
        "2.190 0.045 iː\n",
        "2.370 0.045 b̞\n",
        "2.460 0.045 a\n",
        "2.730 0.045 ɾ\n",
        "2.790 0.045 ə\n",
        "2.970 0.045 m\n",
        "3.030 0.045 ɛ\n",
        "\"\"\""
      ],
      "metadata": {
        "id": "2Ft78D-yRR1s"
      },
      "execution_count": null,
      "outputs": []
    },
    {
      "cell_type": "code",
      "source": [
        "# Split the input string into lines\n",
        "lines = angelInDisguiseOut.strip().split('\\n')\n",
        "\n",
        "# Create a list to store the timestamps and intensities\n",
        "timestamps = []\n",
        "last_timestamp = float(lines[-1].strip().split()[0])\n",
        "# Iterate over the lines and extract the timestamps and intensities\n",
        "for i in range(len(lines)):\n",
        "  parts = lines[i].strip().split()\n",
        "  start_time = float(parts[0])\n",
        "  phoneme = parts[2]\n",
        "  intensity = phoneme_to_mouth[phoneme]\n",
        "  end_time = float(lines[i+1].strip().split()[0]) if i < len(lines) - 1 else last_timestamp\n",
        "\n",
        "  timestamps.append((start_time, end_time, intensity))\n",
        "\n",
        "\n",
        "close_mouth = (last_timestamp, last_timestamp + 1, 0)\n",
        "timestamps.append(close_mouth)\n",
        "print(timestamps)"
      ],
      "metadata": {
        "colab": {
          "base_uri": "https://localhost:8080/"
        },
        "id": "7_i5uylnR71K",
        "outputId": "baf5a76e-99dc-45af-81bb-ef23940314a5"
      },
      "execution_count": null,
      "outputs": [
        {
          "output_type": "stream",
          "name": "stdout",
          "text": [
            "[(0.0, 0.09, 100), (0.09, 0.27, 20), (0.27, 0.33, 10), (0.33, 0.39, 40), (0.39, 0.48, 10), (0.48, 0.57, 10), (0.57, 0.75, 15), (0.75, 0.96, 30), (0.96, 1.02, 10), (1.02, 1.2, 25), (1.2, 1.29, 5), (1.29, 1.41, 5), (1.41, 1.71, 40), (1.71, 1.77, 20), (1.77, 1.86, 10), (1.86, 1.92, 10), (1.92, 1.98, 30), (1.98, 2.13, 40), (2.13, 2.19, 20), (2.19, 2.37, 10), (2.37, 2.46, 20), (2.46, 2.73, 40), (2.73, 2.79, 10), (2.79, 2.97, 15), (2.97, 3.03, 15), (3.03, 3.03, 30), (3.03, 4.029999999999999, 0)]\n"
          ]
        }
      ]
    },
    {
      "cell_type": "code",
      "source": [
        "pm = pretty_midi.PrettyMIDI(initial_tempo=80)\n",
        "mouth = pretty_midi.Instrument(program=0, is_drum=False, name='Piano')\n",
        "pm.instruments.append(mouth)"
      ],
      "metadata": {
        "id": "PFqTQLLwK4gz"
      },
      "execution_count": null,
      "outputs": []
    },
    {
      "cell_type": "code",
      "source": [
        "for start_time, end_time, intensity in timestamps:\n",
        "  mouth.notes.append(pretty_midi.Note(velocity=intensity, pitch=60, start=start_time, end=end_time))\n",
        "\n",
        "print(mouth.notes)"
      ],
      "metadata": {
        "colab": {
          "base_uri": "https://localhost:8080/"
        },
        "id": "2jwmXNjdLgf1",
        "outputId": "2bfeb8c4-8e9c-48e6-c3e0-1ac1ec700c94"
      },
      "execution_count": null,
      "outputs": [
        {
          "output_type": "stream",
          "name": "stdout",
          "text": [
            "[Note(start=0.000000, end=0.090000, pitch=60, velocity=100), Note(start=0.090000, end=0.270000, pitch=60, velocity=20), Note(start=0.270000, end=0.330000, pitch=60, velocity=10), Note(start=0.330000, end=0.390000, pitch=60, velocity=40), Note(start=0.390000, end=0.480000, pitch=60, velocity=10), Note(start=0.480000, end=0.570000, pitch=60, velocity=10), Note(start=0.570000, end=0.750000, pitch=60, velocity=15), Note(start=0.750000, end=0.960000, pitch=60, velocity=30), Note(start=0.960000, end=1.020000, pitch=60, velocity=10), Note(start=1.020000, end=1.200000, pitch=60, velocity=25), Note(start=1.200000, end=1.290000, pitch=60, velocity=5), Note(start=1.290000, end=1.410000, pitch=60, velocity=5), Note(start=1.410000, end=1.710000, pitch=60, velocity=40), Note(start=1.710000, end=1.770000, pitch=60, velocity=20), Note(start=1.770000, end=1.860000, pitch=60, velocity=10), Note(start=1.860000, end=1.920000, pitch=60, velocity=10), Note(start=1.920000, end=1.980000, pitch=60, velocity=30), Note(start=1.980000, end=2.130000, pitch=60, velocity=40), Note(start=2.130000, end=2.190000, pitch=60, velocity=20), Note(start=2.190000, end=2.370000, pitch=60, velocity=10), Note(start=2.370000, end=2.460000, pitch=60, velocity=20), Note(start=2.460000, end=2.730000, pitch=60, velocity=40), Note(start=2.730000, end=2.790000, pitch=60, velocity=10), Note(start=2.790000, end=2.970000, pitch=60, velocity=15), Note(start=2.970000, end=3.030000, pitch=60, velocity=15), Note(start=3.030000, end=3.030000, pitch=60, velocity=30), Note(start=3.030000, end=4.030000, pitch=60, velocity=0), Note(start=0.000000, end=0.090000, pitch=60, velocity=100), Note(start=0.090000, end=0.270000, pitch=60, velocity=20), Note(start=0.270000, end=0.330000, pitch=60, velocity=10), Note(start=0.330000, end=0.390000, pitch=60, velocity=40), Note(start=0.390000, end=0.480000, pitch=60, velocity=10), Note(start=0.480000, end=0.570000, pitch=60, velocity=10), Note(start=0.570000, end=0.750000, pitch=60, velocity=15), Note(start=0.750000, end=0.960000, pitch=60, velocity=30), Note(start=0.960000, end=1.020000, pitch=60, velocity=10), Note(start=1.020000, end=1.200000, pitch=60, velocity=25), Note(start=1.200000, end=1.290000, pitch=60, velocity=5), Note(start=1.290000, end=1.410000, pitch=60, velocity=5), Note(start=1.410000, end=1.710000, pitch=60, velocity=40), Note(start=1.710000, end=1.770000, pitch=60, velocity=20), Note(start=1.770000, end=1.860000, pitch=60, velocity=10), Note(start=1.860000, end=1.920000, pitch=60, velocity=10), Note(start=1.920000, end=1.980000, pitch=60, velocity=30), Note(start=1.980000, end=2.130000, pitch=60, velocity=40), Note(start=2.130000, end=2.190000, pitch=60, velocity=20), Note(start=2.190000, end=2.370000, pitch=60, velocity=10), Note(start=2.370000, end=2.460000, pitch=60, velocity=20), Note(start=2.460000, end=2.730000, pitch=60, velocity=40), Note(start=2.730000, end=2.790000, pitch=60, velocity=10), Note(start=2.790000, end=2.970000, pitch=60, velocity=15), Note(start=2.970000, end=3.030000, pitch=60, velocity=15), Note(start=3.030000, end=3.030000, pitch=60, velocity=30), Note(start=3.030000, end=4.030000, pitch=60, velocity=0), Note(start=0.000000, end=0.090000, pitch=60, velocity=100), Note(start=0.090000, end=0.270000, pitch=60, velocity=20), Note(start=0.270000, end=0.330000, pitch=60, velocity=10), Note(start=0.330000, end=0.390000, pitch=60, velocity=40), Note(start=0.390000, end=0.480000, pitch=60, velocity=10), Note(start=0.480000, end=0.570000, pitch=60, velocity=10), Note(start=0.570000, end=0.750000, pitch=60, velocity=15), Note(start=0.750000, end=0.960000, pitch=60, velocity=30), Note(start=0.960000, end=1.020000, pitch=60, velocity=10), Note(start=1.020000, end=1.200000, pitch=60, velocity=25), Note(start=1.200000, end=1.290000, pitch=60, velocity=5), Note(start=1.290000, end=1.410000, pitch=60, velocity=5), Note(start=1.410000, end=1.710000, pitch=60, velocity=40), Note(start=1.710000, end=1.770000, pitch=60, velocity=20), Note(start=1.770000, end=1.860000, pitch=60, velocity=10), Note(start=1.860000, end=1.920000, pitch=60, velocity=10), Note(start=1.920000, end=1.980000, pitch=60, velocity=30), Note(start=1.980000, end=2.130000, pitch=60, velocity=40), Note(start=2.130000, end=2.190000, pitch=60, velocity=20), Note(start=2.190000, end=2.370000, pitch=60, velocity=10), Note(start=2.370000, end=2.460000, pitch=60, velocity=20), Note(start=2.460000, end=2.730000, pitch=60, velocity=40), Note(start=2.730000, end=2.790000, pitch=60, velocity=10), Note(start=2.790000, end=2.970000, pitch=60, velocity=15), Note(start=2.970000, end=3.030000, pitch=60, velocity=15), Note(start=3.030000, end=3.030000, pitch=60, velocity=30), Note(start=3.030000, end=4.030000, pitch=60, velocity=0)]\n"
          ]
        }
      ]
    },
    {
      "cell_type": "markdown",
      "source": [],
      "metadata": {
        "id": "A_dbvplgQttb"
      }
    },
    {
      "cell_type": "code",
      "source": [
        "def plot_piano_roll(pm, start_pitch, end_pitch, fs=100):\n",
        "    # Use librosa's specshow function for displaying the piano roll\n",
        "    librosa.display.specshow(pm.get_piano_roll(fs)[start_pitch:end_pitch],\n",
        "                             hop_length=1, sr=fs, x_axis='time', y_axis='cqt_note',\n",
        "                             fmin=pretty_midi.note_number_to_hz(start_pitch))\n",
        "\n",
        "plt.figure(figsize=(12,4))\n",
        "plot_piano_roll(pm, 56, 70)\n"
      ],
      "metadata": {
        "colab": {
          "base_uri": "https://localhost:8080/",
          "height": 423
        },
        "id": "iHcPaLqoOjpO",
        "outputId": "04ecf954-e6ab-4797-9ce1-918c74eae0a8"
      },
      "execution_count": null,
      "outputs": [
        {
          "output_type": "stream",
          "name": "stderr",
          "text": [
            "<ipython-input-33-61469c7ea88a>:3: UserWarning: Frequency axis exceeds Nyquist. Did you remember to set all spectrogram parameters in specshow?\n",
            "  librosa.display.specshow(pm.get_piano_roll(fs)[start_pitch:end_pitch],\n"
          ]
        },
        {
          "output_type": "display_data",
          "data": {
            "text/plain": [
              "<Figure size 1200x400 with 1 Axes>"
            ],
            "image/png": "[encoded data removed]"
          },
          "metadata": {}
        }
      ]
    },
    {
      "cell_type": "code",
      "source": [
        "pm.write('out.mid')"
      ],
      "metadata": {
        "id": "oKbm8fZuYPXZ"
      },
      "execution_count": null,
      "outputs": []
    }
  ]
}